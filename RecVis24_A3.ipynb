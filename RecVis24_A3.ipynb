{
  "cells": [
    {
      "cell_type": "markdown",
      "metadata": {
        "id": "s9wq-qtxGMQ6"
      },
      "source": [
        "#RecVis 2024/2025 - Assignment 3: Sketch image classification competition\n",
        "\n",
        "Javier Alejandro LOPETEGUI GONZALEZ\n",
        "\n",
        "ENS Paris-Sacla, Master MVA\n",
        "\n",
        "*this notebook is based in the notebook provided with the assignment*\n",
        "\n",
        "All the trainings have been done using a Colab T4-GPU environment."
      ]
    },
    {
      "cell_type": "markdown",
      "metadata": {
        "id": "hAxzPExpJDvo"
      },
      "source": [
        "First, please, make sure that a GPU runtime has been selected before running this notebook. Go to `Runtime > Change runtime type > Hardware accelerator` and select the GPU one.\n",
        "\n",
        "Then, you can download the simple baseline code from GitHub and install the python requirements:"
      ]
    },
    {
      "cell_type": "code",
      "execution_count": 25,
      "metadata": {
        "id": "z4xY_29F_ilg"
      },
      "outputs": [],
      "source": [
        "!git clone https://github.com/jlopetegui98/recvis_a3_JavierLOPETEGUI.git"
      ]
    },
    {
      "cell_type": "code",
      "source": [
        "#change the name of the recvis24_a3_JavierLOPETEGUI folder to recvis24_a3\n",
        "!mv recvis_a3_JavierLOPETEGUI recvis24_a3"
      ],
      "metadata": {
        "id": "qpJnuzrDH08O"
      },
      "execution_count": 23,
      "outputs": []
    },
    {
      "cell_type": "code",
      "execution_count": 20,
      "metadata": {
        "id": "OPKiWp3ADiLP"
      },
      "outputs": [],
      "source": [
        "!pip install -r recvis24_a3/requirements.txt"
      ]
    },
    {
      "cell_type": "markdown",
      "metadata": {
        "id": "svZJQAOrJQLL"
      },
      "source": [
        "You will need to download the datasets from the [Kaggle competition](https://www.kaggle.com/competitions/mva-recvis-2023/data). To that end, you can retrieve your Kaggle account API token. On Kaggle website:\n",
        "\n",
        "1. Go to your account, Scroll to API section and Click Expire API Token to remove previous tokens\n",
        "\n",
        "2. Click on Create New API Token - It will download kaggle.json file on your machine.\n",
        "\n",
        "Then, open the file, and paste it on the next code cell."
      ]
    },
    {
      "cell_type": "code",
      "execution_count": 19,
      "metadata": {
        "id": "svS9yUPH_3lV"
      },
      "outputs": [],
      "source": [
        "!mkdir ~/.kaggle #create the .kaggle folder in your root directory\n",
        "## INSERT CREDENTIALS\n",
        "!echo 'KAGGLE CREDENTIALS' > ~/.kaggle/kaggle.json #write kaggle API credentials to kaggle.json\n",
        "!chmod 600 ~/.kaggle/kaggle.json  # set permissions\n",
        "!pip install kaggle #install the kaggle library"
      ]
    },
    {
      "cell_type": "markdown",
      "metadata": {
        "id": "P-ueC_UFJ5yf"
      },
      "source": [
        "Next, download the competition dataset and unzip it:"
      ]
    },
    {
      "cell_type": "code",
      "execution_count": 18,
      "metadata": {
        "id": "Uqrs1fHHAc9m"
      },
      "outputs": [],
      "source": [
        "!kaggle competitions download -c mva-recvis-2024\n",
        "!unzip mva-recvis-2024.zip"
      ]
    },
    {
      "cell_type": "markdown",
      "source": [
        "Run the code with the following line. This command will execute the best solution submitted:\n",
        "\n",
        "- model version: ViT-g\n",
        "- embedding strategy: cls + pooled average embedding (concatenation)\n",
        "- freezing strategy: all\n",
        "- dropout: 0.0"
      ],
      "metadata": {
        "id": "-MOfnY2zIZMQ"
      }
    },
    {
      "cell_type": "code",
      "execution_count": 17,
      "metadata": {
        "id": "MQ7kLoK4DMq2"
      },
      "outputs": [],
      "source": [
        "!python recvis24_a3/main.py --model_name dinov2"
      ]
    },
    {
      "cell_type": "markdown",
      "source": [
        "Run the following cell to evaluate the trained model."
      ],
      "metadata": {
        "id": "llONmz7KVBMD"
      }
    },
    {
      "cell_type": "code",
      "execution_count": 16,
      "metadata": {
        "id": "xTySqzpZDdFz"
      },
      "outputs": [],
      "source": [
        "!python recvis24_a3/evaluate.py --model_name dinov2 --model experiment/model_best.pth"
      ]
    }
  ],
  "metadata": {
    "accelerator": "GPU",
    "colab": {
      "gpuType": "T4",
      "provenance": []
    },
    "kernelspec": {
      "display_name": "Python 3",
      "name": "python3"
    },
    "language_info": {
      "name": "python"
    }
  },
  "nbformat": 4,
  "nbformat_minor": 0
}